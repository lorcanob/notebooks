{
 "cells": [
  {
   "cell_type": "markdown",
   "id": "ca9869c3",
   "metadata": {},
   "source": [
    "# Demo Test"
   ]
  },
  {
   "cell_type": "markdown",
   "id": "0cccbae2",
   "metadata": {},
   "source": [
    "This is a demo task.\n",
    "\n",
    "Write a function:\n",
    "```\n",
    "def solution(A)\n",
    "```\n",
    "that, given an array A of N integers, returns the smallest positive integer (greater than 0) that does not occur in A.\n",
    "\n",
    "For example, given A = `[1, 3, 6, 4, 1, 2]`, the function should return `5`.\n",
    "\n",
    "Given A = `[1, 2, 3]`, the function should return `4`.\n",
    "\n",
    "Given A = `[−1, −3]`, the function should return `1`.\n",
    "\n",
    "Write an efficient algorithm for the following assumptions:\n",
    "\n",
    "N is an integer within the range [1..100,000];\n",
    "each element of array A is an integer within the range [−1,000,000..1,000,000]."
   ]
  },
  {
   "cell_type": "code",
   "execution_count": 30,
   "id": "222ce9bd",
   "metadata": {},
   "outputs": [
    {
     "data": {
      "text/plain": [
       "5"
      ]
     },
     "execution_count": 30,
     "metadata": {},
     "output_type": "execute_result"
    }
   ],
   "source": [
    "A = [1, 3, 6, 4, 1, 2, 9, 1, 17]\n",
    "the_set = set(A)\n",
    "# the_list = list(zip(range(1, len(the_set)+1), the_set))\n",
    "# [difference(item) for item in the_list]\n",
    "min(set(range(1, len(the_set)+1)).difference(the_set))\n",
    "# set(range(1, len(the_set)+1))"
   ]
  },
  {
   "cell_type": "code",
   "execution_count": 47,
   "id": "c21ec680",
   "metadata": {},
   "outputs": [],
   "source": [
    "def solution(A):\n",
    "    if set(A) == set(range(1, len(set(A))+1)):\n",
    "        return len(set(A))+1\n",
    "    return max((1, min(set(range(1, len(the_set)+1)).difference(the_set))))"
   ]
  },
  {
   "cell_type": "code",
   "execution_count": 49,
   "id": "886c6d00",
   "metadata": {},
   "outputs": [
    {
     "data": {
      "text/plain": [
       "5"
      ]
     },
     "execution_count": 49,
     "metadata": {},
     "output_type": "execute_result"
    }
   ],
   "source": [
    "solution(A)"
   ]
  },
  {
   "cell_type": "markdown",
   "id": "03ecd5fd",
   "metadata": {},
   "source": [
    "# Task 1"
   ]
  },
  {
   "cell_type": "code",
   "execution_count": 57,
   "id": "bbaedb64",
   "metadata": {},
   "outputs": [],
   "source": [
    "import numpy as np\n",
    "import pandas as pd\n",
    "\n",
    "\n",
    "def solution(files):\n",
    "    output = []\n",
    "    for file in files:\n",
    "        data = pd.read_csv(file)\n",
    "        data.date = pd.to_datetime(data.date)\n",
    "\n",
    "        df1 = data[data.groupby(data.date.dt.year)['vol'].transform(max) == data['vol']][['date', 'vol']]\n",
    "        df2 = data[data.groupby(data.date.dt.year)['close'].transform(max) == data['close']][['date', 'close']]\n",
    "        \n",
    "        output.append([df1, df2])\n",
    "        \n",
    "    return output"
   ]
  },
  {
   "cell_type": "code",
   "execution_count": 58,
   "id": "e0a36d15",
   "metadata": {},
   "outputs": [],
   "source": [
    "files = [\"./data/framp.csv\", \"./data/gnyned.csv\", \"./data/gwoomed.csv\",\n",
    "               \"./data/hoilled.csv\", \"./data/plent.csv\", \"./data/throwsh.csv\",\n",
    "               \"./data/twerche.csv\", \"./data/veeme.csv\"]"
   ]
  },
  {
   "cell_type": "code",
   "execution_count": 59,
   "id": "eb8fed6d",
   "metadata": {},
   "outputs": [],
   "source": [
    "final = solution(files)"
   ]
  },
  {
   "cell_type": "markdown",
   "id": "24b28ee6",
   "metadata": {},
   "source": [
    "# Task 2"
   ]
  },
  {
   "cell_type": "code",
   "execution_count": null,
   "id": "dd535097",
   "metadata": {},
   "outputs": [],
   "source": [
    "def solution(S):\n",
    "    "
   ]
  },
  {
   "cell_type": "code",
   "execution_count": 151,
   "id": "429ed47c",
   "metadata": {},
   "outputs": [],
   "source": [
    "S1 = '.X..X' #2\n",
    "S2 = 'X.XXXXX.X.' #3\n",
    "S3 = 'XX.XXX..' #2\n",
    "S4 = 'XXXX' #2\n",
    "S5 = 'X..XX.X..XX.X..XXX.XXX.XX.X..XX.X.X'"
   ]
  },
  {
   "cell_type": "code",
   "execution_count": 121,
   "id": "16bfdeb7",
   "metadata": {
    "scrolled": true
   },
   "outputs": [
    {
     "data": {
      "text/plain": [
       "[0, 2, 3, 4, 5, 6, 8]"
      ]
     },
     "execution_count": 121,
     "metadata": {},
     "output_type": "execute_result"
    }
   ],
   "source": [
    "indices = [i for i, x in enumerate(S2) if x == \"X\"]\n",
    "indices"
   ]
  },
  {
   "cell_type": "code",
   "execution_count": 129,
   "id": "56a2958d",
   "metadata": {},
   "outputs": [
    {
     "data": {
      "text/plain": [
       "'X..'"
      ]
     },
     "execution_count": 129,
     "metadata": {},
     "output_type": "execute_result"
    }
   ],
   "source": [
    "S1[1:1+3]"
   ]
  },
  {
   "cell_type": "code",
   "execution_count": 152,
   "id": "14d2f045",
   "metadata": {},
   "outputs": [
    {
     "name": "stdout",
     "output_type": "stream",
     "text": [
      "Index: 0. Counter: 0\n",
      "X..XX.X..XX.X..XXX.XXX.XX.X..XX.X.X\n",
      "Index: 3. Counter: 1\n",
      "X..XX.X..XX.X..XXX.XXX.XX.X..XX.X.X\n",
      "Index: 6. Counter: 2\n",
      "X..XX.X..XX.X..XXX.XXX.XX.X..XX.X.X\n",
      "Index: 9. Counter: 3\n",
      "X..XX.X..XX.X..XXX.XXX.XX.X..XX.X.X\n",
      "Index: 12. Counter: 4\n",
      "X..XX.X..XX.X..XXX.XXX.XX.X..XX.X.X\n",
      "Index: 15. Counter: 5\n",
      "X..XX.X..XX.X..XXX.XXX.XX.X..XX.X.X\n",
      "Index: 18. Counter: 6\n",
      "X..XX.X..XX.X..XXX.XXX.XX.X..XX.X.X\n",
      "Index: 19. Counter: 6\n",
      "X..XX.X..XX.X..XXX.XXX.XX.X..XX.X.X\n",
      "Index: 22. Counter: 7\n",
      "X..XX.X..XX.X..XXX.XXX.XX.X..XX.X.X\n",
      "Index: 23. Counter: 7\n",
      "X..XX.X..XX.X..XXX.XXX.XX.X..XX.X.X\n",
      "Index: 26. Counter: 8\n",
      "X..XX.X..XX.X..XXX.XXX.XX.X..XX.X.X\n",
      "Index: 29. Counter: 9\n",
      "X..XX.X..XX.X..XXX.XXX.XX.X..XX.X.X\n",
      "Index: 32. Counter: 10\n",
      "X..XX.X..XX.X..XXX.XXX.XX.X..XX.X.X\n",
      "35 11\n"
     ]
    }
   ],
   "source": [
    "S = S5\n",
    "index = 0\n",
    "counter = 0\n",
    "while index < len(S):\n",
    "    print(f'Index: {index}. Counter: {counter}')\n",
    "    print(S)\n",
    "    if S[index] == 'X':\n",
    "        index += 3\n",
    "        counter += 1\n",
    "    else:\n",
    "        index += 1\n",
    "print(index, counter)"
   ]
  },
  {
   "cell_type": "code",
   "execution_count": null,
   "id": "9d6880ae",
   "metadata": {},
   "outputs": [],
   "source": [
    "index = 0\n",
    "counter = 0\n",
    "while index < len(S):\n",
    "    if S[index] == 'X':\n",
    "        index += 3\n",
    "        counter += 1\n",
    "    else:\n",
    "        index += 1"
   ]
  }
 ],
 "metadata": {
  "kernelspec": {
   "display_name": "Python 3 (ipykernel)",
   "language": "python",
   "name": "python3"
  },
  "language_info": {
   "codemirror_mode": {
    "name": "ipython",
    "version": 3
   },
   "file_extension": ".py",
   "mimetype": "text/x-python",
   "name": "python",
   "nbconvert_exporter": "python",
   "pygments_lexer": "ipython3",
   "version": "3.8.12"
  },
  "toc": {
   "base_numbering": 1,
   "nav_menu": {},
   "number_sections": true,
   "sideBar": true,
   "skip_h1_title": false,
   "title_cell": "Table of Contents",
   "title_sidebar": "Contents",
   "toc_cell": false,
   "toc_position": {},
   "toc_section_display": true,
   "toc_window_display": true
  }
 },
 "nbformat": 4,
 "nbformat_minor": 5
}
