{
 "cells": [
  {
   "cell_type": "code",
   "execution_count": 5,
   "id": "4eb35942",
   "metadata": {},
   "outputs": [],
   "source": [
    "import numpy as np\n",
    "import pandas as pd\n",
    "import matplotlib.pyplot as plt\n",
    "import seaborn as sns\n",
    "import plotly.express as px"
   ]
  },
  {
   "cell_type": "markdown",
   "id": "edfdb270",
   "metadata": {},
   "source": [
    "### Creators"
   ]
  },
  {
   "cell_type": "code",
   "execution_count": 12,
   "id": "bc7b6d55",
   "metadata": {},
   "outputs": [
    {
     "data": {
      "text/plain": [
       "array([[     50],\n",
       "       [      4],\n",
       "       [      8],\n",
       "       [1300000],\n",
       "       [  40000],\n",
       "       [      8]])"
      ]
     },
     "execution_count": 12,
     "metadata": {},
     "output_type": "execute_result"
    }
   ],
   "source": [
    "np.array(pd.Series({'n_creators': 50,\n",
    "'creator_vids_week': 4,\n",
    "           \n",
    "'creator_texts_week': 8,\n",
    "'cameo_2020_videos': 1_300_000,\n",
    "'cameo_2020_creators': 40_000,\n",
    "'dms_week': 8\n",
    "    })).reshape((6, 1))"
   ]
  },
  {
   "cell_type": "markdown",
   "id": "9aad3e8a",
   "metadata": {},
   "source": [
    "### Pricing"
   ]
  },
  {
   "cell_type": "code",
   "execution_count": 19,
   "id": "cf6b8897",
   "metadata": {
    "scrolled": true
   },
   "outputs": [
    {
     "data": {
      "text/plain": [
       "dtype('O')"
      ]
     },
     "execution_count": 19,
     "metadata": {},
     "output_type": "execute_result"
    }
   ],
   "source": []
  },
  {
   "cell_type": "code",
   "execution_count": 3,
   "id": "c6fcc1aa",
   "metadata": {},
   "outputs": [],
   "source": [
    "vid_price = 5000\n",
    "dm_price = 500\n",
    "our_cut = 0.25"
   ]
  },
  {
   "cell_type": "markdown",
   "id": "3cd28b13",
   "metadata": {},
   "source": [
    "#### Videos"
   ]
  },
  {
   "cell_type": "code",
   "execution_count": 4,
   "id": "2b9c0454",
   "metadata": {},
   "outputs": [
    {
     "data": {
      "text/plain": [
       "2031250.0"
      ]
     },
     "execution_count": 4,
     "metadata": {},
     "output_type": "execute_result"
    }
   ],
   "source": [
    "# Cameo model\n",
    "cameo_model_annual_revenue = vid_price*cameo_talent_vids_year*n_creators\n",
    "cameo_model_annual_revenue\n",
    "cameo_model_annual_profit = our_cut*cameo_model_annual_revenue\n",
    "cameo_model_annual_profit"
   ]
  },
  {
   "cell_type": "code",
   "execution_count": 5,
   "id": "d4d7fd05",
   "metadata": {},
   "outputs": [
    {
     "data": {
      "text/plain": [
       "13000000.0"
      ]
     },
     "execution_count": 5,
     "metadata": {},
     "output_type": "execute_result"
    }
   ],
   "source": [
    "# Our goal\n",
    "annual_vid_revenue = vid_price*n_creators*creator_vids_week*52\n",
    "annual_vid_profit = annual_vid_revenue*our_cut\n",
    "annual_vid_profit"
   ]
  },
  {
   "cell_type": "markdown",
   "id": "1d2ade05",
   "metadata": {},
   "source": [
    "#### DMs"
   ]
  },
  {
   "cell_type": "code",
   "execution_count": 10,
   "id": "c5ae81fd",
   "metadata": {},
   "outputs": [
    {
     "data": {
      "text/plain": [
       "406250.0"
      ]
     },
     "execution_count": 10,
     "metadata": {},
     "output_type": "execute_result"
    }
   ],
   "source": [
    "# Cameo model\n",
    "cameo_model_dms_revenue = dm_price*cameo_dms_year*n_creators\n",
    "cameo_model_dms_revenue\n",
    "cameo_model_dms_profit = our_cut*cameo_model_dms_revenue\n",
    "cameo_model_dms_profit"
   ]
  },
  {
   "cell_type": "code",
   "execution_count": 11,
   "id": "b836eb22",
   "metadata": {},
   "outputs": [
    {
     "data": {
      "text/plain": [
       "2600000.0"
      ]
     },
     "execution_count": 11,
     "metadata": {},
     "output_type": "execute_result"
    }
   ],
   "source": [
    "# Our goal\n",
    "annual_dms_revenue = dm_price*n_creators*dms_week*52\n",
    "annual_dms_profit = annual_dms_revenue*our_cut\n",
    "annual_dms_profit"
   ]
  },
  {
   "cell_type": "markdown",
   "id": "6b001d6c",
   "metadata": {},
   "source": [
    "#### Totals"
   ]
  },
  {
   "cell_type": "code",
   "execution_count": 14,
   "id": "47a8f51d",
   "metadata": {},
   "outputs": [],
   "source": [
    "cameo_based = cameo_model_annual_profit+cameo_model_dms_profit"
   ]
  },
  {
   "cell_type": "code",
   "execution_count": 15,
   "id": "24df9e4f",
   "metadata": {},
   "outputs": [],
   "source": [
    "optimistic = annual_dms_profit+annual_vid_profit"
   ]
  },
  {
   "cell_type": "code",
   "execution_count": 16,
   "id": "18380d5e",
   "metadata": {},
   "outputs": [
    {
     "data": {
      "text/plain": [
       "6.4"
      ]
     },
     "execution_count": 16,
     "metadata": {},
     "output_type": "execute_result"
    }
   ],
   "source": [
    "optimistic/cameo_based"
   ]
  }
 ],
 "metadata": {
  "kernelspec": {
   "display_name": "Python 3 (ipykernel)",
   "language": "python",
   "name": "python3"
  },
  "language_info": {
   "codemirror_mode": {
    "name": "ipython",
    "version": 3
   },
   "file_extension": ".py",
   "mimetype": "text/x-python",
   "name": "python",
   "nbconvert_exporter": "python",
   "pygments_lexer": "ipython3",
   "version": "3.8.12"
  },
  "toc": {
   "base_numbering": 1,
   "nav_menu": {},
   "number_sections": true,
   "sideBar": true,
   "skip_h1_title": false,
   "title_cell": "Table of Contents",
   "title_sidebar": "Contents",
   "toc_cell": false,
   "toc_position": {},
   "toc_section_display": true,
   "toc_window_display": true
  }
 },
 "nbformat": 4,
 "nbformat_minor": 5
}
