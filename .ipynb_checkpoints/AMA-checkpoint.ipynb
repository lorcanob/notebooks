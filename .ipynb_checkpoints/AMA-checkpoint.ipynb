{
 "cells": [
  {
   "cell_type": "code",
   "execution_count": 1,
   "id": "ae07cfbc",
   "metadata": {},
   "outputs": [],
   "source": [
    "import numpy as np\n",
    "import pandas as pd\n",
    "import matplotlib.pyplot as plt\n",
    "import seaborn as sns\n",
    "import plotly.express as px"
   ]
  },
  {
   "cell_type": "markdown",
   "id": "02f5186c",
   "metadata": {},
   "source": [
    "### Creators"
   ]
  },
  {
   "cell_type": "code",
   "execution_count": 2,
   "id": "41a8ee54",
   "metadata": {},
   "outputs": [],
   "source": [
    "n_creators = 50\n",
    "creator_vids_week = 4\n",
    "creator_texts_week = 8\n",
    "cameo_2020_videos = 1_300_000\n",
    "cameo_2020_creators = 40_000\n",
    "cameo_talent_vids_year = cameo_2020_videos/cameo_2020_creators\n",
    "cameo_dms_year = 2*cameo_talent_vids_year\n",
    "dms_week = 8\n",
    "creator_vids_year = creator_vids_week*52"
   ]
  },
  {
   "cell_type": "markdown",
   "id": "ad59cd2d",
   "metadata": {},
   "source": [
    "### Pricing"
   ]
  },
  {
   "cell_type": "code",
   "execution_count": 3,
   "id": "76c5c336",
   "metadata": {},
   "outputs": [],
   "source": [
    "vid_price = 5000\n",
    "dm_price = 500\n",
    "our_cut = 0.25"
   ]
  },
  {
   "cell_type": "markdown",
   "id": "a97c34f5",
   "metadata": {},
   "source": [
    "#### Videos"
   ]
  },
  {
   "cell_type": "code",
   "execution_count": 4,
   "id": "476ee4a1",
   "metadata": {},
   "outputs": [
    {
     "data": {
      "text/plain": [
       "2031250.0"
      ]
     },
     "execution_count": 4,
     "metadata": {},
     "output_type": "execute_result"
    }
   ],
   "source": [
    "# Cameo model\n",
    "cameo_model_annual_revenue = vid_price*cameo_talent_vids_year*n_creators\n",
    "cameo_model_annual_revenue\n",
    "cameo_model_annual_profit = our_cut*cameo_model_annual_revenue\n",
    "cameo_model_annual_profit"
   ]
  },
  {
   "cell_type": "code",
   "execution_count": 5,
   "id": "90fc190d",
   "metadata": {},
   "outputs": [
    {
     "data": {
      "text/plain": [
       "13000000.0"
      ]
     },
     "execution_count": 5,
     "metadata": {},
     "output_type": "execute_result"
    }
   ],
   "source": [
    "# Our goal\n",
    "annual_vid_revenue = vid_price*n_creators*creator_vids_week*52\n",
    "annual_vid_profit = annual_vid_revenue*our_cut\n",
    "annual_vid_profit"
   ]
  },
  {
   "cell_type": "markdown",
   "id": "7e39ca3d",
   "metadata": {},
   "source": [
    "#### DMs"
   ]
  },
  {
   "cell_type": "code",
   "execution_count": 10,
   "id": "a48c30e6",
   "metadata": {},
   "outputs": [
    {
     "data": {
      "text/plain": [
       "406250.0"
      ]
     },
     "execution_count": 10,
     "metadata": {},
     "output_type": "execute_result"
    }
   ],
   "source": [
    "# Cameo model\n",
    "cameo_model_dms_revenue = dm_price*cameo_dms_year*n_creators\n",
    "cameo_model_dms_revenue\n",
    "cameo_model_dms_profit = our_cut*cameo_model_dms_revenue\n",
    "cameo_model_dms_profit"
   ]
  },
  {
   "cell_type": "code",
   "execution_count": 11,
   "id": "173309a9",
   "metadata": {},
   "outputs": [
    {
     "data": {
      "text/plain": [
       "2600000.0"
      ]
     },
     "execution_count": 11,
     "metadata": {},
     "output_type": "execute_result"
    }
   ],
   "source": [
    "# Our goal\n",
    "annual_dms_revenue = dm_price*n_creators*dms_week*52\n",
    "annual_dms_profit = annual_dms_revenue*our_cut\n",
    "annual_dms_profit"
   ]
  },
  {
   "cell_type": "markdown",
   "id": "3eabad8f",
   "metadata": {},
   "source": [
    "#### Totals"
   ]
  },
  {
   "cell_type": "code",
   "execution_count": 13,
   "id": "9eeff41e",
   "metadata": {},
   "outputs": [
    {
     "data": {
      "text/plain": [
       "2437500.0"
      ]
     },
     "execution_count": 13,
     "metadata": {},
     "output_type": "execute_result"
    }
   ],
   "source": [
    "cameo_model_annual_profit+cameo_model_dms_profit"
   ]
  },
  {
   "cell_type": "code",
   "execution_count": 12,
   "id": "a7b18b8a",
   "metadata": {},
   "outputs": [
    {
     "data": {
      "text/plain": [
       "15600000.0"
      ]
     },
     "execution_count": 12,
     "metadata": {},
     "output_type": "execute_result"
    }
   ],
   "source": [
    "annual_dms_profit+annual_vid_profit"
   ]
  }
 ],
 "metadata": {
  "kernelspec": {
   "display_name": "Python 3 (ipykernel)",
   "language": "python",
   "name": "python3"
  },
  "language_info": {
   "codemirror_mode": {
    "name": "ipython",
    "version": 3
   },
   "file_extension": ".py",
   "mimetype": "text/x-python",
   "name": "python",
   "nbconvert_exporter": "python",
   "pygments_lexer": "ipython3",
   "version": "3.8.12"
  },
  "toc": {
   "base_numbering": 1,
   "nav_menu": {},
   "number_sections": true,
   "sideBar": true,
   "skip_h1_title": false,
   "title_cell": "Table of Contents",
   "title_sidebar": "Contents",
   "toc_cell": false,
   "toc_position": {},
   "toc_section_display": true,
   "toc_window_display": true
  }
 },
 "nbformat": 4,
 "nbformat_minor": 5
}
